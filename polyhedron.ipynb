{
 "cells": [
  {
   "cell_type": "code",
   "execution_count": 1,
   "id": "ea3610d5",
   "metadata": {},
   "outputs": [
    {
     "data": {
      "text/html": [
       "<html>\\(\\displaystyle \\sin\\left(\\theta\\right)^{2} = -\\frac{\\cos\\left(\\theta\\right)^{4} - 2 \\, \\cos\\left(\\theta\\right)^{3} - 2 \\, \\sqrt{2} \\cos\\left(\\theta\\right)^{2} + {\\left(3 \\, \\sqrt{2} + 4\\right)} \\cos\\left(\\theta\\right) - 4}{\\cos\\left(\\theta\\right)^{2} - 2 \\, \\sqrt{2} \\cos\\left(\\theta\\right) + 3 \\, \\sqrt{2} - 2}\\)</html>"
      ],
      "text/latex": [
       "$\\displaystyle \\sin\\left(\\theta\\right)^{2} = -\\frac{\\cos\\left(\\theta\\right)^{4} - 2 \\, \\cos\\left(\\theta\\right)^{3} - 2 \\, \\sqrt{2} \\cos\\left(\\theta\\right)^{2} + {\\left(3 \\, \\sqrt{2} + 4\\right)} \\cos\\left(\\theta\\right) - 4}{\\cos\\left(\\theta\\right)^{2} - 2 \\, \\sqrt{2} \\cos\\left(\\theta\\right) + 3 \\, \\sqrt{2} - 2}$"
      ],
      "text/plain": [
       "sin(theta)^2 == -(cos(theta)^4 - 2*cos(theta)^3 - 2*sqrt(2)*cos(theta)^2 + (3*sqrt(2) + 4)*cos(theta) - 4)/(cos(theta)^2 - 2*sqrt(2)*cos(theta) + 3*sqrt(2) - 2)"
      ]
     },
     "metadata": {},
     "output_type": "display_data"
    }
   ],
   "source": [
    "%display latex\n",
    "\n",
    "A = vector((cos(theta),1, sin(theta)))\n",
    "B = vector((0,1,0))\n",
    "C = vector((0,0,0))\n",
    "D = vector((1,0,0))\n",
    "N = A - D\n",
    "No = N.norm()\n",
    "Bp = B - D - ((B - D).inner_product(N)/No/No)*N\n",
    "Cp = C - D - ((C - D).inner_product(N)/No/No)*N\n",
    "\n",
    "eq = Bp.inner_product(Cp)/Bp.norm()/Cp.norm() == cos(pi/4)\n",
    "solution = solve([eq], theta)\n",
    "for so in solution:\n",
    "    show(so.lhs() == so.rhs().full_simplify())"
   ]
  },
  {
   "cell_type": "code",
   "execution_count": 2,
   "id": "771c821e",
   "metadata": {},
   "outputs": [
    {
     "data": {
      "text/html": [
       "<html>\\(\\displaystyle 1.42663105966823\\)</html>"
      ],
      "text/latex": [
       "$\\displaystyle 1.42663105966823$"
      ],
      "text/plain": [
       "1.42663105966823"
      ]
     },
     "execution_count": 2,
     "metadata": {},
     "output_type": "execute_result"
    }
   ],
   "source": [
    "N.subs(theta=find_root(eq, 0, pi/2)).norm()"
   ]
  },
  {
   "cell_type": "code",
   "execution_count": null,
   "id": "abdcb6b9",
   "metadata": {},
   "outputs": [],
   "source": []
  }
 ],
 "metadata": {
  "kernelspec": {
   "display_name": "SageMath 10.1.beta5",
   "language": "sage",
   "name": "sagemath"
  },
  "language_info": {
   "codemirror_mode": {
    "name": "ipython",
    "version": 3
   },
   "file_extension": ".py",
   "mimetype": "text/x-python",
   "name": "python",
   "nbconvert_exporter": "python",
   "pygments_lexer": "ipython3",
   "version": "3.11.4"
  }
 },
 "nbformat": 4,
 "nbformat_minor": 5
}
